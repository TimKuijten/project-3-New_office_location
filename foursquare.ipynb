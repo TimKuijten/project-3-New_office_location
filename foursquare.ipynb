{
 "cells": [
  {
   "cell_type": "code",
   "execution_count": 1,
   "metadata": {},
   "outputs": [],
   "source": [
    "# Distruct 3: 1.275896\t103.812776\n",
    "# District 7: 1.295695\t103.856892\n",
    "# District 20: 1.366447\t103.854150"
   ]
  },
  {
   "cell_type": "code",
   "execution_count": 18,
   "metadata": {},
   "outputs": [],
   "source": [
    "import requests\n",
    "import json\n",
    "import pandas as pd\n",
    "from getpass import getpass\n",
    "import dotenv \n",
    "import folium\n",
    "from folium import Choropleth, Circle, Marker, Icon, Map, TileLayer\n",
    "from folium.plugins import HeatMap, MarkerCluster\n",
    "import geopandas as gpd"
   ]
  },
  {
   "cell_type": "code",
   "execution_count": 3,
   "metadata": {},
   "outputs": [],
   "source": [
    "token = getpass()"
   ]
  },
  {
   "cell_type": "code",
   "execution_count": null,
   "metadata": {},
   "outputs": [],
   "source": []
  },
  {
   "cell_type": "code",
   "execution_count": 24,
   "metadata": {},
   "outputs": [],
   "source": []
  },
  {
   "cell_type": "code",
   "execution_count": 4,
   "metadata": {},
   "outputs": [],
   "source": []
  },
  {
   "cell_type": "code",
   "execution_count": 21,
   "metadata": {},
   "outputs": [
    {
     "data": {
      "text/html": [
       "<div>\n",
       "<style scoped>\n",
       "    .dataframe tbody tr th:only-of-type {\n",
       "        vertical-align: middle;\n",
       "    }\n",
       "\n",
       "    .dataframe tbody tr th {\n",
       "        vertical-align: top;\n",
       "    }\n",
       "\n",
       "    .dataframe thead th {\n",
       "        text-align: right;\n",
       "    }\n",
       "</style>\n",
       "<table border=\"1\" class=\"dataframe\">\n",
       "  <thead>\n",
       "    <tr style=\"text-align: right;\">\n",
       "      <th></th>\n",
       "      <th>Category</th>\n",
       "      <th>Count</th>\n",
       "    </tr>\n",
       "  </thead>\n",
       "  <tbody>\n",
       "    <tr>\n",
       "      <th>0</th>\n",
       "      <td>Schools</td>\n",
       "      <td>10</td>\n",
       "    </tr>\n",
       "    <tr>\n",
       "      <th>1</th>\n",
       "      <td>Starbucks</td>\n",
       "      <td>0</td>\n",
       "    </tr>\n",
       "    <tr>\n",
       "      <th>2</th>\n",
       "      <td>Night Clubs</td>\n",
       "      <td>10</td>\n",
       "    </tr>\n",
       "    <tr>\n",
       "      <th>3</th>\n",
       "      <td>Vegan Restaurants</td>\n",
       "      <td>10</td>\n",
       "    </tr>\n",
       "    <tr>\n",
       "      <th>4</th>\n",
       "      <td>Basketball Courts</td>\n",
       "      <td>10</td>\n",
       "    </tr>\n",
       "    <tr>\n",
       "      <th>5</th>\n",
       "      <td>Pet Grooming Services</td>\n",
       "      <td>10</td>\n",
       "    </tr>\n",
       "  </tbody>\n",
       "</table>\n",
       "</div>"
      ],
      "text/plain": [
       "                Category  Count\n",
       "0                Schools     10\n",
       "1              Starbucks      0\n",
       "2            Night Clubs     10\n",
       "3      Vegan Restaurants     10\n",
       "4      Basketball Courts     10\n",
       "5  Pet Grooming Services     10"
      ]
     },
     "execution_count": 21,
     "metadata": {},
     "output_type": "execute_result"
    }
   ],
   "source": []
  },
  {
   "cell_type": "code",
   "execution_count": 10,
   "metadata": {},
   "outputs": [],
   "source": []
  },
  {
   "cell_type": "code",
   "execution_count": 15,
   "metadata": {},
   "outputs": [
    {
     "data": {
      "text/html": [
       "<div>\n",
       "<style scoped>\n",
       "    .dataframe tbody tr th:only-of-type {\n",
       "        vertical-align: middle;\n",
       "    }\n",
       "\n",
       "    .dataframe tbody tr th {\n",
       "        vertical-align: top;\n",
       "    }\n",
       "\n",
       "    .dataframe thead th {\n",
       "        text-align: right;\n",
       "    }\n",
       "</style>\n",
       "<table border=\"1\" class=\"dataframe\">\n",
       "  <thead>\n",
       "    <tr style=\"text-align: right;\">\n",
       "      <th></th>\n",
       "      <th>Category</th>\n",
       "      <th>Count</th>\n",
       "    </tr>\n",
       "  </thead>\n",
       "  <tbody>\n",
       "    <tr>\n",
       "      <th>0</th>\n",
       "      <td>Schools</td>\n",
       "      <td>10</td>\n",
       "    </tr>\n",
       "    <tr>\n",
       "      <th>1</th>\n",
       "      <td>Starbucks</td>\n",
       "      <td>0</td>\n",
       "    </tr>\n",
       "    <tr>\n",
       "      <th>2</th>\n",
       "      <td>Night Clubs</td>\n",
       "      <td>2</td>\n",
       "    </tr>\n",
       "    <tr>\n",
       "      <th>3</th>\n",
       "      <td>Vegan Restaurants</td>\n",
       "      <td>6</td>\n",
       "    </tr>\n",
       "    <tr>\n",
       "      <th>4</th>\n",
       "      <td>Basketball Courts</td>\n",
       "      <td>3</td>\n",
       "    </tr>\n",
       "    <tr>\n",
       "      <th>5</th>\n",
       "      <td>Pet Grooming Services</td>\n",
       "      <td>3</td>\n",
       "    </tr>\n",
       "  </tbody>\n",
       "</table>\n",
       "</div>"
      ],
      "text/plain": [
       "                Category  Count\n",
       "0                Schools     10\n",
       "1              Starbucks      0\n",
       "2            Night Clubs      2\n",
       "3      Vegan Restaurants      6\n",
       "4      Basketball Courts      3\n",
       "5  Pet Grooming Services      3"
      ]
     },
     "execution_count": 15,
     "metadata": {},
     "output_type": "execute_result"
    }
   ],
   "source": []
  },
  {
   "cell_type": "code",
   "execution_count": 14,
   "metadata": {},
   "outputs": [],
   "source": [
    "list_dict_locations = [\n",
    "        {\"name\": \"District 20\", \"lat\": \"1.366447\", \"long\": \"103.854150\"},\n",
    "        {\"name\": \"District 7\", \"lat\": \"1.295695\", \"long\": \"103.856892\"},\n",
    "        {\"name\": \"District 3\", \"lat\": \"1.275896\", \"long\": \"103.812776\"}\n",
    "]\n"
   ]
  },
  {
   "cell_type": "code",
   "execution_count": 15,
   "metadata": {},
   "outputs": [],
   "source": [
    "def get_foursquare_data():\n",
    "    base_url = \"https://api.foursquare.com/v3/places/search\"\n",
    "    locations = (list_dict_locations)\n",
    "    headers = {\n",
    "        \"accept\": \"application/json\",\n",
    "        \"Authorization\": token\n",
    "    }\n",
    "    data_frames = []\n",
    "    for location in locations:\n",
    "        links = [\n",
    "            f\"query=school&ll={location['lat']}%2C{location['long']}&radius=1000\",\n",
    "            f\"ll={location['lat']}%2C{location['long']}&radius=500&chains=ab4c54c0-d68a-012e-5619-003048cad9da\",\n",
    "            f\"ll={location['lat']}%2C{location['long']}&radius=1000&categories=10032\",\n",
    "            f\"ll={location['lat']}%2C{location['long']}&radius=500&categories=13377\",\n",
    "            f\"ll={location['lat']}%2C{location['long']}&radius=10000&categories=18008\",\n",
    "            f\"ll={location['lat']}%2C{location['long']}&radius=1000&categories=11134\"\n",
    "        ]\n",
    "        counts = []\n",
    "        for link in links:\n",
    "            url = f\"{base_url}?{link}\"\n",
    "            response = requests.get(url, headers=headers)\n",
    "            count = len(response.json().get(\"results\", []))\n",
    "            counts.append(count)\n",
    "        df = pd.DataFrame({\"Category\": [\"Schools 1km\", \"Starbucks 500m\", \"Night Clubs 1km\", \"Vegan Restaurants 500m\", \"Basketball Courts 10km\", \"Pet Grooming Services 1km\"], \"Count\": counts})\n",
    "        df[\"Location\"] = location[\"name\"]\n",
    "        data_frames.append(df)\n",
    "    return pd.concat(data_frames).pivot(index=\"Location\", columns=\"Category\", values=\"Count\")\n"
   ]
  },
  {
   "cell_type": "code",
   "execution_count": 16,
   "metadata": {},
   "outputs": [],
   "source": [
    "dataframe_best_district = get_foursquare_data()\n",
    "dataframe_best_district"
   ]
  },
  {
   "cell_type": "code",
   "execution_count": 17,
   "metadata": {},
   "outputs": [
    {
     "data": {
      "text/html": [
       "<div>\n",
       "<style scoped>\n",
       "    .dataframe tbody tr th:only-of-type {\n",
       "        vertical-align: middle;\n",
       "    }\n",
       "\n",
       "    .dataframe tbody tr th {\n",
       "        vertical-align: top;\n",
       "    }\n",
       "\n",
       "    .dataframe thead th {\n",
       "        text-align: right;\n",
       "    }\n",
       "</style>\n",
       "<table border=\"1\" class=\"dataframe\">\n",
       "  <thead>\n",
       "    <tr style=\"text-align: right;\">\n",
       "      <th>Category</th>\n",
       "      <th>Basketball Courts 10km</th>\n",
       "      <th>Night Clubs 1km</th>\n",
       "      <th>Pet Grooming Services 1km</th>\n",
       "      <th>Schools 1km</th>\n",
       "      <th>Starbucks 500m</th>\n",
       "      <th>Vegan Restaurants 500m</th>\n",
       "    </tr>\n",
       "    <tr>\n",
       "      <th>Location</th>\n",
       "      <th></th>\n",
       "      <th></th>\n",
       "      <th></th>\n",
       "      <th></th>\n",
       "      <th></th>\n",
       "      <th></th>\n",
       "    </tr>\n",
       "  </thead>\n",
       "  <tbody>\n",
       "    <tr>\n",
       "      <th>District 20</th>\n",
       "      <td>10</td>\n",
       "      <td>2</td>\n",
       "      <td>3</td>\n",
       "      <td>10</td>\n",
       "      <td>0</td>\n",
       "      <td>6</td>\n",
       "    </tr>\n",
       "    <tr>\n",
       "      <th>District 3</th>\n",
       "      <td>10</td>\n",
       "      <td>0</td>\n",
       "      <td>0</td>\n",
       "      <td>10</td>\n",
       "      <td>0</td>\n",
       "      <td>0</td>\n",
       "    </tr>\n",
       "    <tr>\n",
       "      <th>District 7</th>\n",
       "      <td>10</td>\n",
       "      <td>10</td>\n",
       "      <td>1</td>\n",
       "      <td>10</td>\n",
       "      <td>10</td>\n",
       "      <td>7</td>\n",
       "    </tr>\n",
       "  </tbody>\n",
       "</table>\n",
       "</div>"
      ],
      "text/plain": [
       "Category     Basketball Courts 10km  Night Clubs 1km  \\\n",
       "Location                                               \n",
       "District 20                      10                2   \n",
       "District 3                       10                0   \n",
       "District 7                       10               10   \n",
       "\n",
       "Category     Pet Grooming Services 1km  Schools 1km  Starbucks 500m  \\\n",
       "Location                                                              \n",
       "District 20                          3           10               0   \n",
       "District 3                           0           10               0   \n",
       "District 7                           1           10              10   \n",
       "\n",
       "Category     Vegan Restaurants 500m  \n",
       "Location                             \n",
       "District 20                       6  \n",
       "District 3                        0  \n",
       "District 7                        7  "
      ]
     },
     "execution_count": 17,
     "metadata": {},
     "output_type": "execute_result"
    }
   ],
   "source": [
    "dataframe_best_district"
   ]
  },
  {
   "cell_type": "code",
   "execution_count": 19,
   "metadata": {},
   "outputs": [
    {
     "ename": "NameError",
     "evalue": "name 'df' is not defined",
     "output_type": "error",
     "traceback": [
      "\u001b[1;31m---------------------------------------------------------------------------\u001b[0m",
      "\u001b[1;31mNameError\u001b[0m                                 Traceback (most recent call last)",
      "\u001b[1;32mc:\\Users\\Tim_K\\Ironhack\\project-III-geospatial-data\\foursquare.ipynb Cell 14\u001b[0m in \u001b[0;36m<cell line: 3>\u001b[1;34m()\u001b[0m\n\u001b[0;32m      <a href='vscode-notebook-cell:/c%3A/Users/Tim_K/Ironhack/project-III-geospatial-data/foursquare.ipynb#X15sZmlsZQ%3D%3D?line=0'>1</a>\u001b[0m signapore_map \u001b[39m=\u001b[39m Map(location \u001b[39m=\u001b[39m [\u001b[39m1.287953\u001b[39m, \u001b[39m103.851784\u001b[39m], zoom_start \u001b[39m=\u001b[39m \u001b[39m11\u001b[39m)\n\u001b[1;32m----> <a href='vscode-notebook-cell:/c%3A/Users/Tim_K/Ironhack/project-III-geospatial-data/foursquare.ipynb#X15sZmlsZQ%3D%3D?line=2'>3</a>\u001b[0m \u001b[39mfor\u001b[39;00m index, row \u001b[39min\u001b[39;00m df\u001b[39m.\u001b[39miterrows():\n\u001b[0;32m      <a href='vscode-notebook-cell:/c%3A/Users/Tim_K/Ironhack/project-III-geospatial-data/foursquare.ipynb#X15sZmlsZQ%3D%3D?line=3'>4</a>\u001b[0m     folium\u001b[39m.\u001b[39mMarker(location\u001b[39m=\u001b[39m[row[\u001b[39m'\u001b[39m\u001b[39mLatitude\u001b[39m\u001b[39m'\u001b[39m], row[\u001b[39m'\u001b[39m\u001b[39mLongitude\u001b[39m\u001b[39m'\u001b[39m]], tooltip\u001b[39m=\u001b[39mrow[\u001b[39m'\u001b[39m\u001b[39mName\u001b[39m\u001b[39m'\u001b[39m])\u001b[39m.\u001b[39madd_to(signapore_map)\n\u001b[0;32m      <a href='vscode-notebook-cell:/c%3A/Users/Tim_K/Ironhack/project-III-geospatial-data/foursquare.ipynb#X15sZmlsZQ%3D%3D?line=5'>6</a>\u001b[0m folium\u001b[39m.\u001b[39mChoropleth(\n\u001b[0;32m      <a href='vscode-notebook-cell:/c%3A/Users/Tim_K/Ironhack/project-III-geospatial-data/foursquare.ipynb#X15sZmlsZQ%3D%3D?line=6'>7</a>\u001b[0m     geo_data\u001b[39m=\u001b[39mgeo_sgp,\n\u001b[0;32m      <a href='vscode-notebook-cell:/c%3A/Users/Tim_K/Ironhack/project-III-geospatial-data/foursquare.ipynb#X15sZmlsZQ%3D%3D?line=7'>8</a>\u001b[0m     data\u001b[39m=\u001b[39mdf,\n\u001b[0;32m      <a href='vscode-notebook-cell:/c%3A/Users/Tim_K/Ironhack/project-III-geospatial-data/foursquare.ipynb#X15sZmlsZQ%3D%3D?line=8'>9</a>\u001b[0m     columns\u001b[39m=\u001b[39mdf\u001b[39m.\u001b[39mcolumns,\n\u001b[0;32m     <a href='vscode-notebook-cell:/c%3A/Users/Tim_K/Ironhack/project-III-geospatial-data/foursquare.ipynb#X15sZmlsZQ%3D%3D?line=9'>10</a>\u001b[0m     key_on\u001b[39m=\u001b[39m\u001b[39m\"\u001b[39m\u001b[39mfeature.properties.name\u001b[39m\u001b[39m\"\u001b[39m,\n\u001b[0;32m     <a href='vscode-notebook-cell:/c%3A/Users/Tim_K/Ironhack/project-III-geospatial-data/foursquare.ipynb#X15sZmlsZQ%3D%3D?line=10'>11</a>\u001b[0m )\u001b[39m.\u001b[39madd_to(signapore_map)\n",
      "\u001b[1;31mNameError\u001b[0m: name 'df' is not defined"
     ]
    }
   ],
   "source": [
    "signapore_map = Map(location = [1.287953, 103.851784], zoom_start = 11)\n",
    "\n",
    "for index, row in df.iterrows():\n",
    "    folium.Marker(location=[row['Latitude'], row['Longitude']], tooltip=row['Name']).add_to(signapore_map)\n",
    "\n",
    "folium.Choropleth(\n",
    "    geo_data=geo_sgp,\n",
    "    data=df,\n",
    "    columns=df.columns,\n",
    "    key_on=\"feature.properties.name\",\n",
    ").add_to(signapore_map)\n"
   ]
  },
  {
   "cell_type": "code",
   "execution_count": null,
   "metadata": {},
   "outputs": [],
   "source": []
  }
 ],
 "metadata": {
  "kernelspec": {
   "display_name": "ironhack",
   "language": "python",
   "name": "ironhack"
  },
  "language_info": {
   "codemirror_mode": {
    "name": "ipython",
    "version": 3
   },
   "file_extension": ".py",
   "mimetype": "text/x-python",
   "name": "python",
   "nbconvert_exporter": "python",
   "pygments_lexer": "ipython3",
   "version": "3.10.8"
  },
  "orig_nbformat": 4,
  "vscode": {
   "interpreter": {
    "hash": "8fdc6fae217ca903371b404b170d56014636808a9a66a1f7d0100b88a428e005"
   }
  }
 },
 "nbformat": 4,
 "nbformat_minor": 2
}
