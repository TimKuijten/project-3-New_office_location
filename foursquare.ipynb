{
 "cells": [
  {
   "cell_type": "code",
   "execution_count": 1,
   "metadata": {},
   "outputs": [],
   "source": [
    "# Distruct 3: 1.275896\t103.812776\n",
    "# District 7: 1.295695\t103.856892\n",
    "# District 20: 1.366447\t103.854150"
   ]
  },
  {
   "cell_type": "code",
   "execution_count": 2,
   "metadata": {},
   "outputs": [],
   "source": [
    "import requests\n",
    "import json\n",
    "import pandas as pd\n",
    "from getpass import getpass\n",
    "import dotenv "
   ]
  },
  {
   "cell_type": "code",
   "execution_count": 3,
   "metadata": {},
   "outputs": [],
   "source": [
    "token = getpass()"
   ]
  },
  {
   "cell_type": "code",
   "execution_count": 3,
   "metadata": {},
   "outputs": [
    {
     "name": "stdout",
     "output_type": "stream",
     "text": [
      "{\"results\":[{\"fsq_id\":\"4cb588f17abcbfb737e7a51f\",\"categories\":[{\"id\":12059,\"name\":\"High School\",\"icon\":{\"prefix\":\"https://ss3.4sqi.net/img/categories_v2/building/school_\",\"suffix\":\".png\"}}],\"chains\":[],\"distance\":188,\"geocodes\":{\"main\":{\"latitude\":1.365972,\"longitude\":103.852415},\"roof\":{\"latitude\":1.365972,\"longitude\":103.852415}},\"link\":\"/v3/places/4cb588f17abcbfb737e7a51f\",\"location\":{\"address\":\"1 Ang Mo Kio St 42\",\"country\":\"SG\",\"formatted_address\":\"1 Ang Mo Kio St 42, 569277\",\"locality\":\"Singapore\",\"post_town\":\"Ang Mo Kio\",\"postcode\":\"569277\"},\"name\":\"Deyi Secondary School\",\"related_places\":{},\"timezone\":\"Asia/Singapore\"},{\"fsq_id\":\"5420cbfd498e3d0290428fce\",\"categories\":[{\"id\":12053,\"name\":\"Language School\",\"icon\":{\"prefix\":\"https://ss3.4sqi.net/img/categories_v2/education/default_\",\"suffix\":\".png\"}}],\"chains\":[],\"distance\":344,\"geocodes\":{\"main\":{\"latitude\":1.368998,\"longitude\":103.856131},\"roof\":{\"latitude\":1.368998,\"longitude\":103.856131}},\"link\":\"/v3/places/5420cbfd498e3d0290428fce\",\"location\":{\"address\":\"452 Ang Mo Kio Avenue 10\",\"address_extended\":\"#01-1793 (\",\"country\":\"SG\",\"cross_street\":\"\",\"formatted_address\":\"452 Ang Mo Kio Avenue 10, 560452\",\"locality\":\"Singapore\",\"post_town\":\"Ang Mo Kio\",\"postcode\":\"560452\"},\"name\":\"French Language Academy\",\"related_places\":{},\"timezone\":\"Asia/Singapore\"},{\"fsq_id\":\"4f4b50f0e4b04587837788e8\",\"categories\":[{\"id\":12059,\"name\":\"High School\",\"icon\":{\"prefix\":\"https://ss3.4sqi.net/img/categories_v2/building/school_\",\"suffix\":\".png\"}}],\"chains\":[],\"distance\":423,\"geocodes\":{\"main\":{\"latitude\":1.36514,\"longitude\":103.85904},\"roof\":{\"latitude\":1.36514,\"longitude\":103.85904}},\"link\":\"/v3/places/4f4b50f0e4b04587837788e8\",\"location\":{\"address\":\"6 Ang Mo Kio St 44\",\"country\":\"SG\",\"cross_street\":\"\",\"formatted_address\":\"6 Ang Mo Kio St 44, 569253\",\"locality\":\"Singapore\",\"post_town\":\"Ang Mo Kio\",\"postcode\":\"569253\"},\"name\":\"Pathlight School\",\"related_places\":{},\"timezone\":\"Asia/Singapore\"},{\"fsq_id\":\"4c31a4a2452620a13fe4200f\",\"categories\":[{\"id\":12058,\"name\":\"Elementary School\",\"icon\":{\"prefix\":\"https://ss3.4sqi.net/img/categories_v2/building/school_\",\"suffix\":\".png\"}}],\"chains\":[],\"distance\":443,\"geocodes\":{\"main\":{\"latitude\":1.365445,\"longitude\":103.850848},\"roof\":{\"latitude\":1.365445,\"longitude\":103.850848}},\"link\":\"/v3/places/4c31a4a2452620a13fe4200f\",\"location\":{\"address\":\"1 Ang Mo Kio St 32\",\"address_extended\":\"#A1-00\",\"country\":\"SG\",\"formatted_address\":\"1 Ang Mo Kio St 32, 569299\",\"locality\":\"Singapore\",\"post_town\":\"Ang Mo Kio\",\"postcode\":\"569299\"},\"name\":\"Teck Ghee Primary School\",\"related_places\":{},\"timezone\":\"Asia/Singapore\"},{\"fsq_id\":\"4c045f63f56c2d7f123b1e66\",\"categories\":[{\"id\":12059,\"name\":\"High School\",\"icon\":{\"prefix\":\"https://ss3.4sqi.net/img/categories_v2/building/school_\",\"suffix\":\".png\"}}],\"chains\":[],\"distance\":470,\"geocodes\":{\"main\":{\"latitude\":1.363937,\"longitude\":103.858378},\"roof\":{\"latitude\":1.363937,\"longitude\":103.858378}},\"link\":\"/v3/places/4c045f63f56c2d7f123b1e66\",\"location\":{\"address\":\"2 Ang Mo Kio St 44\",\"country\":\"SG\",\"formatted_address\":\"2 Ang Mo Kio St 44, 569250\",\"locality\":\"Singapore\",\"post_town\":\"Ang Mo Kio\",\"postcode\":\"569250\"},\"name\":\"Chong Boon Secondary School\",\"related_places\":{},\"timezone\":\"Asia/Singapore\"},{\"fsq_id\":\"4cc81fb0d77af04d8390ac99\",\"categories\":[{\"id\":12009,\"name\":\"Education\",\"icon\":{\"prefix\":\"https://ss3.4sqi.net/img/categories_v2/building/school_\",\"suffix\":\".png\"}}],\"chains\":[],\"distance\":661,\"geocodes\":{\"main\":{\"latitude\":1.3725,\"longitude\":103.854897},\"roof\":{\"latitude\":1.3725,\"longitude\":103.854897}},\"link\":\"/v3/places/4cc81fb0d77af04d8390ac99\",\"location\":{\"address\":\"Blk 528 Ang Mo Kio Avenue 10\",\"address_extended\":\"#02-2387\",\"country\":\"SG\",\"cross_street\":\"Ang Mo Kio Ave 10\",\"formatted_address\":\"Blk 528 Ang Mo Kio Avenue 10 (Ang Mo Kio Ave 10), 560528\",\"locality\":\"Singapore\",\"post_town\":\"Ang Mo Kio\",\"postcode\":\"560528\"},\"name\":\"Bloom School of Music & Arts\",\"related_places\":{},\"timezone\":\"Asia/Singapore\"},{\"fsq_id\":\"4dc2075845ddd5b5b6a480f8\",\"categories\":[{\"id\":11025,\"name\":\"Child Care Service\",\"icon\":{\"prefix\":\"https://ss3.4sqi.net/img/categories_v2/shops/daycare_\",\"suffix\":\".png\"}}],\"chains\":[],\"distance\":713,\"geocodes\":{\"main\":{\"latitude\":1.365513,\"longitude\":103.848537},\"roof\":{\"latitude\":1.365513,\"longitude\":103.848537}},\"link\":\"/v3/places/4dc2075845ddd5b5b6a480f8\",\"location\":{\"address\":\"320 Ang Mo Kio Ave 1\",\"address_extended\":\"#01-1521\",\"country\":\"SG\",\"cross_street\":\"\",\"formatted_address\":\"320 Ang Mo Kio Ave 1, 560320\",\"locality\":\"Singapore\",\"post_town\":\"Ang Mo Kio\",\"postcode\":\"560320\"},\"name\":\"Intellect Child Care & Development Centre\",\"related_places\":{},\"timezone\":\"Asia/Singapore\"},{\"fsq_id\":\"4b978f0af964a520c90835e3\",\"categories\":[{\"id\":12058,\"name\":\"Elementary School\",\"icon\":{\"prefix\":\"https://ss3.4sqi.net/img/categories_v2/building/school_\",\"suffix\":\".png\"}}],\"chains\":[],\"distance\":738,\"geocodes\":{\"main\":{\"latitude\":1.371726,\"longitude\":103.851907},\"roof\":{\"latitude\":1.371726,\"longitude\":103.851907}},\"link\":\"/v3/places/4b978f0af964a520c90835e3\",\"location\":{\"address\":\"5 Ang Mo Kio St 52\",\"country\":\"SG\",\"formatted_address\":\"5 Ang Mo Kio St 52, 569228\",\"locality\":\"Singapore\",\"post_town\":\"Ang Mo Kio\",\"postcode\":\"569228\"},\"name\":\"Jing Shan Primary School\",\"related_places\":{},\"timezone\":\"Asia/Singapore\"},{\"fsq_id\":\"4c4f6fb0a7351b8d278a1493\",\"categories\":[{\"id\":12009,\"name\":\"Education\",\"icon\":{\"prefix\":\"https://ss3.4sqi.net/img/categories_v2/building/school_\",\"suffix\":\".png\"}}],\"chains\":[],\"distance\":761,\"geocodes\":{\"main\":{\"latitude\":1.363854,\"longitude\":103.847985},\"roof\":{\"latitude\":1.363854,\"longitude\":103.847985}},\"link\":\"/v3/places/4c4f6fb0a7351b8d278a1493\",\"location\":{\"country\":\"SG\",\"cross_street\":\"\",\"formatted_address\":\"563309\",\"locality\":\"Singapore\",\"post_town\":\"Ang Mo Kio\",\"postcode\":\"563309\"},\"name\":\"Little Skool House at the Hub\",\"related_places\":{},\"timezone\":\"Asia/Singapore\"},{\"fsq_id\":\"4e9d53969adfe5e71cb4abc0\",\"categories\":[{\"id\":12009,\"name\":\"Education\",\"icon\":{\"prefix\":\"https://ss3.4sqi.net/img/categories_v2/building/school_\",\"suffix\":\".png\"}}],\"chains\":[{\"id\":\"2b2eda9f-37c1-447b-bcac-1f0230b2511e\",\"name\":\"PAP Community Foundation \"}],\"distance\":823,\"geocodes\":{\"main\":{\"latitude\":1.368285,\"longitude\":103.847761},\"roof\":{\"latitude\":1.368285,\"longitude\":103.847761}},\"link\":\"/v3/places/4e9d53969adfe5e71cb4abc0\",\"location\":{\"address\":\"319 Ang Mo Kio Ave 1\",\"address_extended\":\"#01-1928\",\"country\":\"SG\",\"cross_street\":\"\",\"formatted_address\":\"319 Ang Mo Kio Ave 1, 560319\",\"locality\":\"Singapore\",\"post_town\":\"Ang Mo Kio\",\"postcode\":\"560319\"},\"name\":\"PAP Community Foundation\",\"related_places\":{},\"timezone\":\"Asia/Singapore\"}],\"context\":{\"geo_bounds\":{\"circle\":{\"center\":{\"latitude\":1.366447,\"longitude\":103.85415},\"radius\":1000}}}}\n",
      "{\"results\":[{\"fsq_id\":\"4bec39eba9900f479cbf1840\",\"categories\":[{\"id\":10032,\"name\":\"Night Club\",\"icon\":{\"prefix\":\"https://ss3.4sqi.net/img/categories_v2/nightlife/nightclub_\",\"suffix\":\".png\"}}],\"chains\":[],\"distance\":373,\"geocodes\":{\"main\":{\"latitude\":1.369798,\"longitude\":103.853839}},\"link\":\"/v3/places/4bec39eba9900f479cbf1840\",\"location\":{\"address\":\"7 Marina Blvd\",\"country\":\"SG\",\"cross_street\":\"Pan Pacific Hotel\",\"formatted_address\":\"7 Marina Blvd (Pan Pacific Hotel), 039595\",\"locality\":\"Singapore\",\"post_town\":\"Marina Area\",\"postcode\":\"039595\"},\"name\":\"Stereolounge\",\"related_places\":{},\"timezone\":\"Asia/Singapore\"},{\"fsq_id\":\"4dd4e02d52b18e28aa1e8e87\",\"categories\":[{\"id\":10032,\"name\":\"Night Club\",\"icon\":{\"prefix\":\"https://ss3.4sqi.net/img/categories_v2/nightlife/nightclub_\",\"suffix\":\".png\"}}],\"chains\":[],\"distance\":416,\"geocodes\":{\"main\":{\"latitude\":1.363544,\"longitude\":103.851942},\"roof\":{\"latitude\":1.363544,\"longitude\":103.851942}},\"link\":\"/v3/places/4dd4e02d52b18e28aa1e8e87\",\"location\":{\"address\":\"2225 Ang Mo Kio Avenue 8\",\"country\":\"SG\",\"cross_street\":\"\",\"formatted_address\":\"2225 Ang Mo Kio Avenue 8, 569810\",\"locality\":\"Singapore\",\"post_town\":\"Ang Mo Kio\",\"postcode\":\"569810\"},\"name\":\"Chocolateee Landdd\",\"related_places\":{},\"timezone\":\"Asia/Singapore\"}],\"context\":{\"geo_bounds\":{\"circle\":{\"center\":{\"latitude\":1.366447,\"longitude\":103.85415},\"radius\":1000}}}}\n",
      "{\"results\":[{\"fsq_id\":\"4c9bccaa8afca093f085e715\",\"categories\":[{\"id\":18008,\"name\":\"Basketball Court\",\"icon\":{\"prefix\":\"https://ss3.4sqi.net/img/categories_v2/parks_outdoors/basketballcourt_\",\"suffix\":\".png\"}}],\"chains\":[],\"distance\":742,\"geocodes\":{\"main\":{\"latitude\":1.37264,\"longitude\":103.85684}},\"link\":\"/v3/places/4c9bccaa8afca093f085e715\",\"location\":{\"address\":\"Ang Mo Kio St 54\",\"country\":\"SG\",\"cross_street\":\"\",\"formatted_address\":\"Ang Mo Kio St 54, 561552\",\"locality\":\"Singapore\",\"post_town\":\"Ang Mo Kio\",\"postcode\":\"561552\"},\"name\":\"Amk St 54 Basketball Court\",\"related_places\":{},\"timezone\":\"Asia/Singapore\"},{\"fsq_id\":\"4e301f5f3151250387b6196a\",\"categories\":[{\"id\":18008,\"name\":\"Basketball Court\",\"icon\":{\"prefix\":\"https://ss3.4sqi.net/img/categories_v2/parks_outdoors/basketballcourt_\",\"suffix\":\".png\"}}],\"chains\":[],\"distance\":934,\"geocodes\":{\"main\":{\"latitude\":1.374639,\"longitude\":103.854486},\"roof\":{\"latitude\":1.374639,\"longitude\":103.854486}},\"link\":\"/v3/places/4e301f5f3151250387b6196a\",\"location\":{\"address\":\"Ang Mo Kio Blk 536 Basketball Ct\",\"country\":\"SG\",\"formatted_address\":\"Ang Mo Kio Blk 536 Basketball Ct, 560536\",\"locality\":\"Singapore\",\"post_town\":\"Ang Mo Kio\",\"postcode\":\"560536\"},\"name\":\"Ang Mo Kio Blk 536 Basketball Court\",\"related_places\":{},\"timezone\":\"Asia/Singapore\"},{\"fsq_id\":\"4cc573b342d1b60c06662313\",\"categories\":[{\"id\":18008,\"name\":\"Basketball Court\",\"icon\":{\"prefix\":\"https://ss3.4sqi.net/img/categories_v2/parks_outdoors/basketballcourt_\",\"suffix\":\".png\"}}],\"chains\":[],\"distance\":992,\"geocodes\":{\"main\":{\"latitude\":1.369488,\"longitude\":103.845846},\"roof\":{\"latitude\":1.369488,\"longitude\":103.845846}},\"link\":\"/v3/places/4cc573b342d1b60c06662313\",\"location\":{\"address\":\"Ang Mo Kio Ave 6\",\"country\":\"SG\",\"formatted_address\":\"Ang Mo Kio Ave 6, 560700\",\"locality\":\"Singapore\",\"post_town\":\"Ang Mo Kio\",\"postcode\":\"560700\"},\"name\":\"Multi Purpose Area\",\"related_places\":{},\"timezone\":\"Asia/Singapore\"}],\"context\":{\"geo_bounds\":{\"circle\":{\"center\":{\"latitude\":1.366447,\"longitude\":103.85415},\"radius\":1000}}}}\n",
      "{\"results\":[{\"fsq_id\":\"4df868832271607ac917dc53\",\"categories\":[{\"id\":11134,\"name\":\"Pet Grooming Service\",\"icon\":{\"prefix\":\"https://ss3.4sqi.net/img/categories_v2/shops/pet_store_\",\"suffix\":\".png\"}},{\"id\":17110,\"name\":\"Pet Supplies Store\",\"icon\":{\"prefix\":\"https://ss3.4sqi.net/img/categories_v2/shops/pet_store_\",\"suffix\":\".png\"}}],\"chains\":[],\"distance\":461,\"geocodes\":{\"main\":{\"latitude\":1.362662,\"longitude\":103.854626},\"roof\":{\"latitude\":1.362662,\"longitude\":103.854626}},\"link\":\"/v3/places/4df868832271607ac917dc53\",\"location\":{\"address\":\"Blk 410 Ang Mo Kio Avenue 10\",\"address_extended\":\"#01-847\",\"country\":\"SG\",\"cross_street\":\"\",\"formatted_address\":\"Blk 410 Ang Mo Kio Avenue 10, 560410\",\"locality\":\"Singapore\",\"post_town\":\"Ang Mo Kio\",\"postcode\":\"560410\"},\"name\":\"Mao Mao Pet House\",\"related_places\":{},\"timezone\":\"Asia/Singapore\"},{\"fsq_id\":\"57ccf0d5498e646cd7c986a1\",\"categories\":[{\"id\":11134,\"name\":\"Pet Grooming Service\",\"icon\":{\"prefix\":\"https://ss3.4sqi.net/img/categories_v2/shops/pet_store_\",\"suffix\":\".png\"}},{\"id\":17110,\"name\":\"Pet Supplies Store\",\"icon\":{\"prefix\":\"https://ss3.4sqi.net/img/categories_v2/shops/pet_store_\",\"suffix\":\".png\"}}],\"chains\":[],\"distance\":582,\"geocodes\":{\"main\":{\"latitude\":1.361468,\"longitude\":103.852126},\"roof\":{\"latitude\":1.361468,\"longitude\":103.852126}},\"link\":\"/v3/places/57ccf0d5498e646cd7c986a1\",\"location\":{\"address\":\"Blk 332 Ang mo Kio Ave1\",\"country\":\"SG\",\"cross_street\":\"\",\"formatted_address\":\"Blk 332 Ang mo Kio Ave1, 560332\",\"locality\":\"Ang Mo Kio\",\"post_town\":\"Ang Mo Kio\",\"postcode\":\"560332\"},\"name\":\"Fluffy Petcare\",\"related_places\":{},\"timezone\":\"Asia/Singapore\"},{\"fsq_id\":\"a16ad7c85a7f49bebd43170e\",\"categories\":[{\"id\":11134,\"name\":\"Pet Grooming Service\",\"icon\":{\"prefix\":\"https://ss3.4sqi.net/img/categories_v2/shops/pet_store_\",\"suffix\":\".png\"}},{\"id\":17110,\"name\":\"Pet Supplies Store\",\"icon\":{\"prefix\":\"https://ss3.4sqi.net/img/categories_v2/shops/pet_store_\",\"suffix\":\".png\"}}],\"chains\":[],\"distance\":642,\"geocodes\":{\"main\":{\"latitude\":1.364191,\"longitude\":103.848821},\"roof\":{\"latitude\":1.364191,\"longitude\":103.848821}},\"link\":\"/v3/places/a16ad7c85a7f49bebd43170e\",\"location\":{\"address\":\"338 Ang Mo Kio Avenue 1\",\"address_extended\":\"#01-1643\",\"country\":\"SG\",\"formatted_address\":\"338 Ang Mo Kio Avenue 1, 560338\",\"locality\":\"Singapore\",\"post_town\":\"Ang Mo Kio\",\"postcode\":\"560338\"},\"name\":\"Pets' Gantry\",\"related_places\":{}}],\"context\":{\"geo_bounds\":{\"circle\":{\"center\":{\"latitude\":1.366447,\"longitude\":103.85415},\"radius\":1000}}}}\n"
     ]
    }
   ],
   "source": [
    "#Schools 1000m\n",
    "url = \"https://api.foursquare.com/v3/places/search?query=school&ll=1.366447%2C103.854150&radius=1000&limit=10\"\n",
    "\n",
    "headers = {\n",
    "    \"accept\": \"application/json\",\n",
    "    \"Authorization\": (token) \n",
    "}\n",
    "\n",
    "response = requests.get(url, headers=headers)\n",
    "\n",
    "print(response.text)\n",
    "\n",
    "#starbucks 750m\n",
    "\n",
    "url = \"https://api.foursquare.com/v3/places/search?ll=1.366447%2C103.854150&radius=750&chains=ab4c54c0-d68a-012e-5619-003048cad9da&limit=10\"\n",
    "\n",
    "headers = {\n",
    "    \"accept\": \"application/json\",\n",
    "    \"Authorization\": (token)\n",
    "}\n",
    "\n",
    "response = requests.get(url, headers=headers)\n",
    "\n",
    "# Night clubs within 1km\n",
    "url = \"https://api.foursquare.com/v3/places/search?ll=1.366447%2C103.854150&radius=1000&categories=10032&limit=10\"\n",
    "\n",
    "headers = {\n",
    "    \"accept\": \"application/json\",\n",
    "    \"Authorization\": (token)\n",
    "}\n",
    "\n",
    "response = requests.get(url, headers=headers)\n",
    "\n",
    "print(response.text)\n",
    "\n",
    "#Vegan restaurant within 500m\n",
    "\n",
    "url = \"https://api.foursquare.com/v3/places/search?ll=1.366447%2C103.854150&radius=500&categories=13377&limit=10\"\n",
    "\n",
    "headers = {\n",
    "    \"accept\": \"application/json\",\n",
    "    \"Authorization\": (token)\n",
    "}\n",
    "\n",
    "response = requests.get(url, headers=headers)\n",
    "\n",
    "# Basketball court within 1km\n",
    "\n",
    "url = \"https://api.foursquare.com/v3/places/search?ll=1.366447%2C103.854150&radius=1000&categories=18008&limit=10\"\n",
    "\n",
    "headers = {\n",
    "    \"accept\": \"application/json\",\n",
    "    \"Authorization\": (token)\n",
    "}\n",
    "\n",
    "response = requests.get(url, headers=headers)\n",
    "\n",
    "print(response.text)\n",
    "\n",
    "# Pet grooming services witin 1km\n",
    "\n",
    "url = \"https://api.foursquare.com/v3/places/search?ll=1.366447%2C103.854150&radius=1000&categories=11134&limit=10\"\n",
    "\n",
    "headers = {\n",
    "    \"accept\": \"application/json\",\n",
    "    \"Authorization\": (token)\n",
    "}\n",
    "\n",
    "response = requests.get(url, headers=headers)\n",
    "\n",
    "print(response.text)\n",
    "\n"
   ]
  },
  {
   "cell_type": "code",
   "execution_count": 24,
   "metadata": {},
   "outputs": [],
   "source": []
  },
  {
   "cell_type": "code",
   "execution_count": 8,
   "metadata": {},
   "outputs": [],
   "source": [
    "def get_foursquare_data(lat, long):\n",
    "    base_url = \"https://api.foursquare.com/v3/places/search\"\n",
    "    links = [\n",
    "        f\"query=school&ll=1.366447%2C103.854150&radius=1000&limit=10\",\n",
    "        f\"ll=1.366447%2C103.854150&radius=750&chains=ab4c54c0-d68a-012e-5619-003048cad9da&limit=10\",\n",
    "        f\"ll=1.366447%2C103.854150&radius=1000&categories=10032&limit=10\",\n",
    "        f\"ll=1.366447%2C103.854150&radius=500&categories=13377&limit=10\",\n",
    "        f\"ll=1.366447%2C103.854150&radius=1000&categories=18008&limit=10\",\n",
    "        f\"ll=1.366447%2C103.854150&radius=1000&categories=11134&limit=10\"\n",
    "\n",
    "    ]\n",
    "    headers = {\n",
    "        \"accept\": \"application/json\",\n",
    "        \"Authorization\": token\n",
    "    }\n",
    "    counts = []\n",
    "    for link in links:\n",
    "        url = f\"{base_url}?{link}\"\n",
    "        response = requests.get(url, headers=headers)\n",
    "        count = len(response.json().get(\"results\", []))\n",
    "        counts.append(count)\n",
    "    return pd.DataFrame({\"Category\": [\"Schools\", \"Starbucks\", \"Night Clubs\", \"Vegan Restaurants\", \"Basketball Courts\", \"Pet Grooming Services\"], \"Count\": counts})"
   ]
  },
  {
   "cell_type": "code",
   "execution_count": 9,
   "metadata": {},
   "outputs": [
    {
     "data": {
      "text/html": [
       "<div>\n",
       "<style scoped>\n",
       "    .dataframe tbody tr th:only-of-type {\n",
       "        vertical-align: middle;\n",
       "    }\n",
       "\n",
       "    .dataframe tbody tr th {\n",
       "        vertical-align: top;\n",
       "    }\n",
       "\n",
       "    .dataframe thead th {\n",
       "        text-align: right;\n",
       "    }\n",
       "</style>\n",
       "<table border=\"1\" class=\"dataframe\">\n",
       "  <thead>\n",
       "    <tr style=\"text-align: right;\">\n",
       "      <th></th>\n",
       "      <th>Category</th>\n",
       "      <th>Count</th>\n",
       "    </tr>\n",
       "  </thead>\n",
       "  <tbody>\n",
       "    <tr>\n",
       "      <th>0</th>\n",
       "      <td>Schools</td>\n",
       "      <td>10</td>\n",
       "    </tr>\n",
       "    <tr>\n",
       "      <th>1</th>\n",
       "      <td>Starbucks</td>\n",
       "      <td>0</td>\n",
       "    </tr>\n",
       "    <tr>\n",
       "      <th>2</th>\n",
       "      <td>Night Clubs</td>\n",
       "      <td>2</td>\n",
       "    </tr>\n",
       "    <tr>\n",
       "      <th>3</th>\n",
       "      <td>Vegan Restaurants</td>\n",
       "      <td>6</td>\n",
       "    </tr>\n",
       "    <tr>\n",
       "      <th>4</th>\n",
       "      <td>Basketball Courts</td>\n",
       "      <td>3</td>\n",
       "    </tr>\n",
       "    <tr>\n",
       "      <th>5</th>\n",
       "      <td>Pet Grooming Services</td>\n",
       "      <td>3</td>\n",
       "    </tr>\n",
       "  </tbody>\n",
       "</table>\n",
       "</div>"
      ],
      "text/plain": [
       "                Category  Count\n",
       "0                Schools     10\n",
       "1              Starbucks      0\n",
       "2            Night Clubs      2\n",
       "3      Vegan Restaurants      6\n",
       "4      Basketball Courts      3\n",
       "5  Pet Grooming Services      3"
      ]
     },
     "execution_count": 9,
     "metadata": {},
     "output_type": "execute_result"
    }
   ],
   "source": [
    "get_foursquare_data(1.275896,103.812776)\n",
    "\n",
    "# Distruct 3: 1.275896,103.812776\n",
    "# District 7: 1.295695\t103.856892\n",
    "# District 20: 1.366447\t103.854150"
   ]
  },
  {
   "cell_type": "code",
   "execution_count": null,
   "metadata": {},
   "outputs": [],
   "source": []
  }
 ],
 "metadata": {
  "kernelspec": {
   "display_name": "ironhack",
   "language": "python",
   "name": "ironhack"
  },
  "language_info": {
   "codemirror_mode": {
    "name": "ipython",
    "version": 3
   },
   "file_extension": ".py",
   "mimetype": "text/x-python",
   "name": "python",
   "nbconvert_exporter": "python",
   "pygments_lexer": "ipython3",
   "version": "3.10.8"
  },
  "orig_nbformat": 4,
  "vscode": {
   "interpreter": {
    "hash": "8fdc6fae217ca903371b404b170d56014636808a9a66a1f7d0100b88a428e005"
   }
  }
 },
 "nbformat": 4,
 "nbformat_minor": 2
}
